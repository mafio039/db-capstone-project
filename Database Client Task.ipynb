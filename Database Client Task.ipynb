{
 "cells": [
  {
   "cell_type": "code",
   "execution_count": 1,
   "id": "9115eff0-f64d-4e12-95ad-161dee233af0",
   "metadata": {},
   "outputs": [
    {
     "name": "stdout",
     "output_type": "stream",
     "text": [
      "Requirement already satisfied: mysql-connector-python in c:\\users\\mafan\\appdata\\local\\programs\\python\\python310\\lib\\site-packages (9.2.0)\n"
     ]
    }
   ],
   "source": [
    "!pip install mysql-connector-python"
   ]
  },
  {
   "cell_type": "code",
   "execution_count": 2,
   "id": "a73c1c8c-4d21-4bf2-8df1-b19df00a86e6",
   "metadata": {},
   "outputs": [],
   "source": [
    "import mysql.connector as connector "
   ]
  },
  {
   "cell_type": "code",
   "execution_count": 3,
   "id": "d9fae66b-8a2f-497a-a53f-aa35927f2888",
   "metadata": {},
   "outputs": [],
   "source": [
    "from mysql.connector import Error "
   ]
  },
  {
   "cell_type": "code",
   "execution_count": 7,
   "id": "e5a97d56-caed-4c3d-b771-c89aea579ca9",
   "metadata": {},
   "outputs": [
    {
     "name": "stdout",
     "output_type": "stream",
     "text": [
      "Connection Succesful\n"
     ]
    }
   ],
   "source": [
    "try:\n",
    "    connectxn = connector.connect(user = 'Admin1', host = 'localhost', password = 'maxTelle,7020', database = 'LittleLemonDB', use_pure = True)\n",
    "    print('Connection Succesful')\n",
    "except Error as er:\n",
    "    print('Error: ', er)"
   ]
  },
  {
   "cell_type": "code",
   "execution_count": 8,
   "id": "552de222-fc3e-41f4-912d-74571097dd2b",
   "metadata": {},
   "outputs": [
    {
     "name": "stdout",
     "output_type": "stream",
     "text": [
      "Connected to :  ('littlelemondb',)\n"
     ]
    }
   ],
   "source": [
    "cursor = connectxn.cursor()\n",
    "cursor.execute(\"\"\"SELECT DATABASE();\"\"\")\n",
    "db = cursor.fetchone()\n",
    "print('Connected to : ', db)\n"
   ]
  },
  {
   "cell_type": "code",
   "execution_count": 11,
   "id": "4299314e-aac9-4926-b2af-11b860b0e686",
   "metadata": {},
   "outputs": [
    {
     "name": "stdout",
     "output_type": "stream",
     "text": [
      "[('bookings',), ('customers',), ('menu_items',), ('menus',), ('order_delivery_status',), ('orders',), ('ordersview',), ('staffs',)]\n"
     ]
    }
   ],
   "source": [
    "show_tables_query = \"\"\"SHOW tables\"\"\"\n",
    "cursor.execute(show_tables_query)\n",
    "results = cursor.fetchall()\n",
    "print(results)"
   ]
  },
  {
   "cell_type": "code",
   "execution_count": null,
   "id": "fb630d10-8f90-43aa-9abc-49a1c6864bb4",
   "metadata": {},
   "outputs": [],
   "source": [
    "promotion_query = \"\"\" SELECT Customers.Name, Customers.Contact, Orders.Bill_Amount\n",
    "FROM Customer INNER JOIN Orders ON Customers.CustomerID = Orders.CustomerID\n",
    "WHERE Bill_Amount > 60\"\"\"\n",
    "cursor.execute(promotion_query)\n",
    "results = cursor.fetchall()\n",
    "print(results) "
   ]
  }
 ],
 "metadata": {
  "kernelspec": {
   "display_name": "Python 3 (ipykernel)",
   "language": "python",
   "name": "python3"
  },
  "language_info": {
   "codemirror_mode": {
    "name": "ipython",
    "version": 3
   },
   "file_extension": ".py",
   "mimetype": "text/x-python",
   "name": "python",
   "nbconvert_exporter": "python",
   "pygments_lexer": "ipython3",
   "version": "3.10.3"
  }
 },
 "nbformat": 4,
 "nbformat_minor": 5
}
