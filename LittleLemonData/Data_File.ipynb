{
 "cells": [
  {
   "cell_type": "code",
   "execution_count": 2,
   "metadata": {},
   "outputs": [
    {
     "name": "stdout",
     "output_type": "stream",
     "text": [
      "Requirement already satisfied: mysql-connector-python in c:\\users\\mafan\\appdata\\local\\programs\\python\\python310\\lib\\site-packages (9.2.0)Note: you may need to restart the kernel to use updated packages.\n",
      "\n"
     ]
    }
   ],
   "source": [
    "%pip install mysql-connector-python"
   ]
  },
  {
   "cell_type": "code",
   "execution_count": 5,
   "metadata": {},
   "outputs": [],
   "source": [
    "import mysql.connector as connector \n",
    "from mysql.connector import Error"
   ]
  },
  {
   "cell_type": "code",
   "execution_count": 6,
   "metadata": {},
   "outputs": [
    {
     "name": "stdout",
     "output_type": "stream",
     "text": [
      "Connection Succesfull\n"
     ]
    }
   ],
   "source": [
    "try:\n",
    "    connection = connector.connect(user = \"Admin1\", password = \"maxTelle,7020\", database = \"LittleLemonDB\", host = \"localhost\", use_pure = True)\n",
    "    print(\"Connection Succesfull\")\n",
    "except Error as er:  \n",
    "    print(\"Error:\", er)\n",
    "    "
   ]
  },
  {
   "cell_type": "code",
   "execution_count": 7,
   "metadata": {},
   "outputs": [
    {
     "name": "stdout",
     "output_type": "stream",
     "text": [
      "Connected to: ('littlelemondb',)\n"
     ]
    }
   ],
   "source": [
    "cursor = connection.cursor()\n",
    "cursor.execute(\"SELECT DATABASE();\")\n",
    "db = cursor.fetchone()\n",
    "print(\"Connected to:\", db)"
   ]
  },
  {
   "cell_type": "code",
   "execution_count": 28,
   "metadata": {},
   "outputs": [],
   "source": [
    "insert_customers = \"\"\"INSERT INTO Customers (Name, Email_Address, Contact)\n",
    "VALUES\n",
    "('John Doe', 'john.doe@example.com', '555-1234'),\n",
    "('Jane Smith', 'jane.smith@example.com', '555-5678'),\n",
    "('Michael Johnson', 'michael.johnson@example.com', '555-8765'),\n",
    "('Emily Davis', 'emily.davis@example.com', '555-4321'),\n",
    "('David Brown', 'david.brown@example.com', '555-1122'),\n",
    "('Olivia Wilson', 'olivia.wilson@example.com', '555-3344'),\n",
    "('James Martinez', 'james.martinez@example.com', '555-5566'),\n",
    "('Sophia Garcia', 'sophia.garcia@example.com', '555-7788'),\n",
    "('Daniel Lee', 'daniel.lee@example.com', '555-9900'),\n",
    "('Ava Anderson', 'ava.anderson@example.com', '555-2233');\n",
    "\"\"\"\n",
    "\n",
    "insert_menu_items = \"\"\"INSERT INTO menu_items (Course_Name, Starter_Name, Dessert_Name)\n",
    "VALUES\n",
    "('Grilled Chicken', 'Caesar Salad', 'Chocolate Lava Cake'),\n",
    "('Spaghetti Carbonara', 'Bruschetta', 'Tiramisu'),\n",
    "('Beef Steak', 'Tomato Soup', 'Cheesecake'),\n",
    "('Grilled Salmon', 'Garlic Bread', 'Apple Pie'),\n",
    "('Chicken Parmesan', 'Fried Calamari', 'Panna Cotta'),\n",
    "('Vegetable Stir-Fry', 'Spring Rolls', 'Ice Cream Sundae'),\n",
    "('Lamb Chops', 'Stuffed Mushrooms', 'Fruit Tart'),\n",
    "('Shrimp Scampi', 'French Fries', 'Baklava'),\n",
    "('Chicken Tikka Masala', 'Onion Rings', 'Lemon Meringue Pie'),\n",
    "('BBQ Ribs', 'Fried Zucchini', 'Cinnamon Roll');\n",
    "\"\"\"\n",
    "\n",
    "insert_menus = \"\"\"INSERT INTO menus (Menu_Name, Cuisine, Price, Menu_Items_ID)\n",
    "VALUES\n",
    "('Classic Italian Feast', 'Italian', 29.99, 1),\n",
    "('Sushi Delights', 'Japanese', 34.99, 2),\n",
    "('Taco Fiesta', 'Mexican', 19.99, 3),\n",
    "('Mediterranean Munch', 'Mediterranean', 25.99, 4),\n",
    "('BBQ Grills', 'American', 22.99, 5),\n",
    "('Vegetarian Vibes', 'Vegetarian', 18.99, 6),\n",
    "('Asian Fusion', 'Asian', 30.99, 7),\n",
    "('Royal Indian Feast', 'Indian', 27.99, 8),\n",
    "('French Bistro', 'French', 35.99, 9),\n",
    "('Classic Breakfast', 'American', 12.99, 10);\n",
    "\"\"\"\n",
    "\n",
    "insert_order_delivery_status = \"\"\"INSERT INTO order_delivery_status (Status, Status_updated_at)\n",
    "VALUES\n",
    "('Pending', '2025-03-01 10:00:00'),\n",
    "('Shipped', '2025-03-01 12:30:00'),\n",
    "('Out for Delivery', '2025-03-01 14:00:00'),\n",
    "('Delivered', '2025-03-01 16:30:00'),\n",
    "('Pending', '2025-03-02 09:00:00'),\n",
    "('Shipped', '2025-03-02 11:30:00'),\n",
    "('Out for Delivery', '2025-03-02 13:15:00'),\n",
    "('Delivered', '2025-03-02 15:45:00'),\n",
    "('Pending', '2025-03-03 10:15:00'),\n",
    "('Shipped', '2025-03-03 12:00:00');\n",
    "\"\"\"\n",
    "\n",
    "insert_staffs = \"\"\"INSERT INTO staffs (Name, Address, Role, Contact, Salary)\n",
    "VALUES\n",
    "('John Doe', '123 Elm St, Springfield, IL', 'Manager', '555-1234', 55000),\n",
    "('Jane Smith', '456 Oak St, Springfield, IL', 'Chef', '555-5678', 48000),\n",
    "('Michael Johnson', '789 Pine St, Springfield, IL', 'Waiter', '555-8765', 30000),\n",
    "('Emily Davis', '101 Maple St, Springfield, IL', 'Sous Chef', '555-4321', 42000),\n",
    "('David Brown', '202 Birch St, Springfield, IL', 'Bartender', '555-1122', 35000),\n",
    "('Olivia Wilson', '303 Cedar St, Springfield, IL', 'Dishwasher', '555-3344', 27000),\n",
    "('James Martinez', '404 Walnut St, Springfield, IL', 'Waiter', '555-5566', 29000),\n",
    "('Sophia Garcia', '505 Redwood St, Springfield, IL', 'Manager', '555-7788', 55000),\n",
    "('Daniel Lee', '606 Ash St, Springfield, IL', 'Chef', '555-9900', 50000),\n",
    "('Ava Anderson', '707 Cherry St, Springfield, IL', 'Host', '555-2233', 28000);\n",
    "\"\"\"\n",
    "\n",
    "insert_bookings = \"\"\"INSERT INTO bookings (Table_No, Booking_Slot, Customer_ID, Staff_ID)\n",
    "VALUES\n",
    "(1, '2025-03-01 18:30:00', 1, 3),\n",
    "(2, '2025-03-01 19:00:00', 2, 4),\n",
    "(3, '2025-03-01 19:30:00', 3, 2),\n",
    "(4, '2025-03-01 20:00:00', 4, 1),\n",
    "(5, '2025-03-02 18:00:00', 5, 3),\n",
    "(6, '2025-03-02 18:30:00', 6, 4),\n",
    "(7, '2025-03-02 19:00:00', 7, 2),\n",
    "(8, '2025-03-02 19:30:00', 8, 1),\n",
    "(9, '2025-03-03 20:00:00', 9, 3),\n",
    "(10, '2025-03-03 20:30:00', 10, 4);\n",
    "\"\"\"\n",
    "\n",
    "insert_orders = \"\"\"INSERT INTO orders (Qunatity, Bill_Amount, Menu_ID, Status_ID, Booking_ID)\n",
    "VALUES\n",
    "(2, 39.98, 1, 1, 1),\n",
    "(1, 25.99, 2, 2, 2),\n",
    "(3, 56.97, 3, 1, 3),\n",
    "(4, 99.96, 4, 3, 4),\n",
    "(2, 42.98, 5, 2, 5),\n",
    "(1, 22.50, 6, 1, 6),\n",
    "(3, 68.97, 7, 3, 7),\n",
    "(2, 41.98, 8, 1, 8),\n",
    "(1, 29.99, 9, 2, 9),\n",
    "(4, 129.96, 10, 3, 10);\n",
    "\"\"\" "
   ]
  },
  {
   "cell_type": "code",
   "execution_count": 29,
   "metadata": {},
   "outputs": [],
   "source": [
    "cursor.execute(insert_customers)\n",
    "connection.commit() \n",
    "\n",
    "cursor.execute(insert_menu_items)\n",
    "connection.commit() \n",
    "\n",
    "cursor.execute(insert_menus)\n",
    "connection.commit() \n",
    "\n",
    "cursor.execute(insert_order_delivery_status)\n",
    "connection.commit() \n",
    "\n",
    "cursor.execute(insert_staffs)\n",
    "connection.commit() \n",
    "\n",
    "cursor.execute(insert_bookings)\n",
    "connection.commit() \n",
    "\n",
    "cursor.execute(insert_orders)\n",
    "connection.commit() \n"
   ]
  },
  {
   "cell_type": "code",
   "execution_count": 35,
   "metadata": {},
   "outputs": [],
   "source": [
    "cursor.execute(\"\"\"\n",
    "UPDATE menus\n",
    "SET Price = CASE\n",
    "    WHEN Menu_Name = 'Classic Italian Feast' THEN 150\n",
    "    WHEN Menu_Name = 'Sushi Delights' THEN 160\n",
    "    WHEN Menu_Name = 'Taco Fiesta' THEN 155\n",
    "    WHEN Menu_Name = 'Mediterranean Munch' THEN 170\n",
    "    WHEN Menu_Name = 'BBQ Grills' THEN 180\n",
    "    WHEN Menu_Name = 'Vegetarian Vibes' THEN 150\n",
    "    WHEN Menu_Name = 'Asian Fusion' THEN 200\n",
    "    WHEN Menu_Name = 'Royal Indian Feast' THEN 190\n",
    "    WHEN Menu_Name = 'French Bistro' THEN 210\n",
    "    WHEN Menu_Name = 'Classic Breakfast' THEN 150\n",
    "    ELSE Price\n",
    "END;\n",
    "\"\"\")\n",
    "\n",
    "connection.commit()"
   ]
  },
  {
   "cell_type": "code",
   "execution_count": 9,
   "metadata": {},
   "outputs": [],
   "source": [
    "cursor.execute(\"\"\"\n",
    "UPDATE orders o\n",
    "JOIN menus m ON o.Menu_ID = m.Menu_ID\n",
    "SET o.Bill_Amount = m.Price * o.Quantity;\n",
    "\"\"\")\n",
    "\n",
    "connection.commit()"
   ]
  },
  {
   "cell_type": "code",
   "execution_count": null,
   "metadata": {},
   "outputs": [],
   "source": []
  }
 ],
 "metadata": {
  "kernelspec": {
   "display_name": "Python 3",
   "language": "python",
   "name": "python3"
  },
  "language_info": {
   "codemirror_mode": {
    "name": "ipython",
    "version": 3
   },
   "file_extension": ".py",
   "mimetype": "text/x-python",
   "name": "python",
   "nbconvert_exporter": "python",
   "pygments_lexer": "ipython3",
   "version": "3.10.3"
  }
 },
 "nbformat": 4,
 "nbformat_minor": 2
}
